{
 "cells": [
  {
   "cell_type": "code",
   "execution_count": 12,
   "metadata": {
    "ExecuteTime": {
     "end_time": "2020-12-23T09:16:06.346688Z",
     "start_time": "2020-12-23T09:16:06.343687Z"
    }
   },
   "outputs": [
    {
     "name": "stdout",
     "output_type": "stream",
     "text": [
      "2.1.0\n"
     ]
    }
   ],
   "source": [
    "import cv2\n",
    "import numpy as np\n",
    "import tensorflow as tf\n",
    "\n",
    "print(tf.__version__)"
   ]
  },
  {
   "cell_type": "code",
   "execution_count": 13,
   "metadata": {
    "ExecuteTime": {
     "end_time": "2020-12-23T09:16:07.121838Z",
     "start_time": "2020-12-23T09:16:07.118834Z"
    }
   },
   "outputs": [],
   "source": [
    "PLATE_NUM_LENGTH = 8\n",
    "\n",
    "TEST_DATA_PATH = 'data/plate/test'\n",
    "TRAIN_DATA_PATH = 'data/plate/train'\n",
    "\n",
    "IMG_WIDTH = 128\n",
    "IMG_HEIGHT = 64\n",
    "\n",
    "POOL_NUM = 2\n",
    "DOWNSAMPLE = POOL_NUM ** 2"
   ]
  },
  {
   "cell_type": "code",
   "execution_count": 14,
   "metadata": {
    "ExecuteTime": {
     "end_time": "2020-12-23T09:16:08.248560Z",
     "start_time": "2020-12-23T09:16:08.230556Z"
    }
   },
   "outputs": [
    {
     "name": "stdout",
     "output_type": "stream",
     "text": [
      "Letters: 0 1 2 3 4 5 6 7 8 9 A B C E H K M O P T X Y\n"
     ]
    }
   ],
   "source": [
    "import os\n",
    "import json\n",
    "from collections import Counter\n",
    "from glob import glob\n",
    "\n",
    "\n",
    "def load_char_counts(path):\n",
    "    \"\"\"Загружаем словарь символов на основе данных разметки\"\"\"\n",
    "    counts = Counter()\n",
    "    for filename in glob(os.path.join(path, 'ann', '*.json')):\n",
    "        with open(filename, 'r') as src:\n",
    "            annotation = json.load(src)\n",
    "        label = annotation['description']\n",
    "        assert len(label) == PLATE_NUM_LENGTH\n",
    "        counts.update(label)\n",
    "    return counts\n",
    "\n",
    "LETTERS = sorted(load_char_counts(TRAIN_DATA_PATH).keys())\n",
    "print('Letters:', ' '.join(LETTERS))"
   ]
  },
  {
   "cell_type": "code",
   "execution_count": 24,
   "metadata": {
    "ExecuteTime": {
     "end_time": "2020-12-23T09:22:56.290118Z",
     "start_time": "2020-12-23T09:22:56.278116Z"
    }
   },
   "outputs": [],
   "source": [
    "import random\n",
    "import functools\n",
    "\n",
    "def indices_to_text(indicies, letters):\n",
    "    \"\"\"Возвращает текст для заданных индексов\"\"\"\n",
    "    return ''.join(map(letters.__getitem__, indicies))\n",
    "\n",
    "def text_to_indices(text, letters):\n",
    "    \"\"\"Конвертирует текст в список индексов\"\"\"\n",
    "    return list(map(letters.index, text))\n",
    "\n",
    "class DataGenerator:\n",
    "    \"\"\"Загрузка и подготвка данных для обучения/тестирования\"\"\"\n",
    "    def __init__(self, \n",
    "                 path, \n",
    "                 img_width,\n",
    "                 img_height, \n",
    "                 batch_size,\n",
    "                 letters,\n",
    "                 max_label_len):\n",
    "        \n",
    "        self._img_height = img_height\n",
    "        self._img_width = img_width\n",
    "        self._batch_size = batch_size\n",
    "        self._letters = letters\n",
    "        self._max_label_len = max_label_len\n",
    "        \n",
    "        self._files = []\n",
    "        for img_path in glob(os.path.join(path, 'img', '*.png')):\n",
    "            basename, _ = os.path.splitext(os.path.basename(img_path))\n",
    "            annotation_path = os.path.join(path, 'ann', '%s.json' % basename)\n",
    "            with open(annotation_path, 'r') as src:\n",
    "                annotation = json.load(src)\n",
    "                self._files.append((img_path, annotation['description']))\n",
    "    \n",
    "    @property\n",
    "    def steps_per_epoch(self):\n",
    "        return len(self._files) // self._batch_size\n",
    "    \n",
    "    @functools.lru_cache(maxsize=1024)\n",
    "    def _load_img(self, path):\n",
    "        img = cv2.imread(path, cv2.IMREAD_GRAYSCALE)\n",
    "        img = cv2.resize(img, (self._img_width, self._img_height))\n",
    "        img = np.float32(img) / 255.\n",
    "        return img.reshape((self._img_height, self._img_width, 1))\n",
    "    \n",
    "    def __call__(self):\n",
    "        while True:\n",
    "            assert self.steps_per_epoch > 0\n",
    "    \n",
    "            batch_img = np.zeros(\n",
    "                [self._batch_size, \n",
    "                 self._img_height, self._img_width, 1], np.float32)\n",
    "            \n",
    "            random.shuffle(self._files)\n",
    "            for i in range(0, len(self._files), self._batch_size):\n",
    "                k = i + self._batch_size\n",
    "                if k > len(self._files):\n",
    "                    break\n",
    "\n",
    "                batch_labels = np.zeros([self._batch_size, \n",
    "                                         self._max_label_len], np.int32)\n",
    "            \n",
    "                batch_labels_length = np.zeros([self._batch_size, 1])\n",
    "                \n",
    "                for j, (img_path, label) in enumerate(self._files[i:k]):\n",
    "                    batch_img[j] = self._load_img(img_path)\n",
    "                    batch_labels[j] = text_to_indices(label, self._letters)\n",
    "                    batch_labels_length[j] = len(label)\n",
    "                                \n",
    "                outputs = {\n",
    "                    'labels': batch_labels,\n",
    "                    'labels_length': batch_labels_length\n",
    "                }\n",
    "\n",
    "                yield batch_img, outputs"
   ]
  },
  {
   "cell_type": "code",
   "execution_count": 25,
   "metadata": {
    "ExecuteTime": {
     "end_time": "2020-12-23T09:22:56.816169Z",
     "start_time": "2020-12-23T09:22:56.670136Z"
    }
   },
   "outputs": [
    {
     "name": "stdout",
     "output_type": "stream",
     "text": [
      "Text generator output (data which will be fed into the neutral network):\n",
      "1) input (image) 64x128\n"
     ]
    },
    {
     "data": {
      "image/png": "[encoded data removed]",
      "text/plain": [
       "<Figure size 432x288 with 1 Axes>"
      ]
     },
     "metadata": {
      "needs_background": "light"
     },
     "output_type": "display_data"
    },
    {
     "name": "stdout",
     "output_type": "stream",
     "text": [
      "2) labels (plate number): E147OB07 is encoded as [13  1  4  7 17 11  0  7]\n",
      "3) label_length (length of plate number): 8\n"
     ]
    }
   ],
   "source": [
    "%matplotlib inline\n",
    "import matplotlib.pyplot as plt\n",
    "\n",
    "data = DataGenerator(TRAIN_DATA_PATH,\n",
    "                     batch_size=1,\n",
    "                     img_width=128,\n",
    "                     img_height=64,\n",
    "                     letters=LETTERS,\n",
    "                     max_label_len=PLATE_NUM_LENGTH)\n",
    "\n",
    "x, y_true = next(data())\n",
    "label_indices = y_true['labels'][0]\n",
    "label = indices_to_text(label_indices, LETTERS)\n",
    "label_length = y_true['labels_length'][0]\n",
    "\n",
    "print('Text generator output (data which will be fed into the neutral network):')\n",
    "print('1) input (image) %dx%d' % x[0].shape[:2])\n",
    "plt.imshow(np.squeeze(x[0]), cmap='gray')\n",
    "plt.show()\n",
    "\n",
    "print('2) labels (plate number): %s is encoded as %s' % (label, label_indices))\n",
    "print('3) label_length (length of plate number): %d' % label_length)"
   ]
  },
  {
   "cell_type": "code",
   "execution_count": 26,
   "metadata": {
    "ExecuteTime": {
     "end_time": "2020-12-23T09:22:58.273070Z",
     "start_time": "2020-12-23T09:22:58.254065Z"
    }
   },
   "outputs": [],
   "source": [
    "from itertools import groupby\n",
    "from tensorflow.keras import backend as K\n",
    "\n",
    "class PlateOCR(tf.keras.Model):\n",
    "    \n",
    "    def __init__(self, input_shape,\n",
    "                 num_classes, name='plate_ocr'):\n",
    "        super(PlateOCR, self).__init__(name=name)\n",
    "        \n",
    "        img_height, img_width, img_channels = input_shape\n",
    "        \n",
    "        self._permute = tf.keras.layers.Permute(dims=(2, 1, 3),\n",
    "                                                input_shape=input_shape,\n",
    "                                                name='permute')\n",
    "        \n",
    "        self._conv1 = tf.keras.layers.Conv2D(16,\n",
    "                                             kernel_size=3,\n",
    "                                             padding='same',\n",
    "                                             activation='relu',\n",
    "                                             name='conv_1')\n",
    "        self._pool1 = tf.keras.layers.MaxPooling2D(pool_size=2, name='pool_1')\n",
    "        \n",
    "        self._conv2 = tf.keras.layers.Conv2D(16,\n",
    "                                             kernel_size=3,\n",
    "                                             padding='same',\n",
    "                                             activation='relu',\n",
    "                                             name='conv_2')\n",
    "        self._pool2 = tf.keras.layers.MaxPooling2D(pool_size=2, name='pool_2')\n",
    "        \n",
    "        self._rnn_input_length = img_width\n",
    "        self._rnn_input_length //= self._pool1.pool_size[0]\n",
    "        self._rnn_input_length //= self._pool2.pool_size[0]\n",
    "        \n",
    "        self._rnn_input_features = img_height\n",
    "        self._rnn_input_features //= self._pool1.pool_size[1]\n",
    "        self._rnn_input_features //= self._pool2.pool_size[1]\n",
    "        self._rnn_input_features *= self._conv2.filters\n",
    "        \n",
    "        self._reshape = tf.keras.layers.Reshape(\n",
    "            target_shape=(self._rnn_input_length,\n",
    "                          self._rnn_input_features),\n",
    "            name='reshape')\n",
    "        \n",
    "        self._dense = tf.keras.layers.Dense(32, \n",
    "                                            activation='relu',\n",
    "                                            name='dense_1')\n",
    "        \n",
    "        self._gru_1_fw = tf.keras.layers.GRU(512,\n",
    "                                             return_sequences=True,\n",
    "                                             name='gru_1_fw')\n",
    "        self._gru_1_bw = tf.keras.layers.GRU(512,\n",
    "                                             go_backwards=True,\n",
    "                                             return_sequences=True,\n",
    "                                             name='gru_1_bw')\n",
    "        \n",
    "        self._gru_2_fw = tf.keras.layers.GRU(512,\n",
    "                                             return_sequences=True,\n",
    "                                             name='gru_2_fw')\n",
    "        self._gru_2_bw = tf.keras.layers.GRU(512,\n",
    "                                             go_backwards=True,\n",
    "                                             return_sequences=True,\n",
    "                                             name='gru_2_bw')\n",
    "        \n",
    "        self._output = tf.keras.layers.Dense(num_classes + 1, \n",
    "                                             activation='softmax',\n",
    "                                             name='output')\n",
    "        \n",
    "        self.build(input_shape=(None, img_height, img_width, img_channels))\n",
    "\n",
    "    def call(self, x):\n",
    "        x = self._conv1(self._permute(x))\n",
    "        x = self._pool1(x)\n",
    "        \n",
    "        x = self._conv2(x)\n",
    "        x = self._pool2(x)\n",
    "        \n",
    "        x = self._dense(self._reshape(x))\n",
    "        \n",
    "        x = tf.keras.layers.add([self._gru_1_fw(x),\n",
    "                                 self._gru_1_bw(x)])\n",
    "        \n",
    "        x = tf.keras.layers.add([self._gru_2_fw(x),\n",
    "                                 self._gru_2_bw(x)])\n",
    "        \n",
    "        return self._output(x)\n",
    "\n",
    "    def train_step(self, data):\n",
    "        x, y_true = data\n",
    "        \n",
    "        labels = y_true['labels']\n",
    "        labels_length = y_true['labels_length']\n",
    "        \n",
    "        input_length = self._rnn_input_length * tf.ones_like(labels_length)\n",
    "        \n",
    "        with tf.GradientTape() as tape:\n",
    "            y_pred = self(x, training=True)\n",
    "            loss = K.ctc_batch_cost(labels,\n",
    "                                    y_pred,\n",
    "                                    input_length,\n",
    "                                    labels_length)\n",
    "\n",
    "        gradients = tape.gradient(\n",
    "            loss, self.trainable_variables)\n",
    "        self.optimizer.apply_gradients(\n",
    "            zip(gradients, self.trainable_variables))\n",
    "        \n",
    "        return {'loss': loss}\n",
    "    \n",
    "    def decode(self, y_pred, letters):\n",
    "        result = []\n",
    "        for prediction in y_pred:\n",
    "            indices = [i for i, _ in groupby(np.argmax(prediction, -1))]\n",
    "            indices = [i for i in indices if i < len(letters)]\n",
    "            result.append(indices_to_text(indices, letters))\n",
    "        return result"
   ]
  },
  {
   "cell_type": "code",
   "execution_count": 27,
   "metadata": {
    "ExecuteTime": {
     "end_time": "2020-12-23T09:23:00.855423Z",
     "start_time": "2020-12-23T09:22:59.462119Z"
    }
   },
   "outputs": [
    {
     "name": "stdout",
     "output_type": "stream",
     "text": [
      "Model: \"plate_ocr\"\n",
      "_________________________________________________________________\n",
      "Layer (type)                 Output Shape              Param #   \n",
      "=================================================================\n",
      "permute (Permute)            multiple                  0         \n",
      "_________________________________________________________________\n",
      "conv_1 (Conv2D)              multiple                  160       \n",
      "_________________________________________________________________\n",
      "pool_1 (MaxPooling2D)        multiple                  0         \n",
      "_________________________________________________________________\n",
      "conv_2 (Conv2D)              multiple                  2320      \n",
      "_________________________________________________________________\n",
      "pool_2 (MaxPooling2D)        multiple                  0         \n",
      "_________________________________________________________________\n",
      "reshape (Reshape)            multiple                  0         \n",
      "_________________________________________________________________\n",
      "dense_1 (Dense)              multiple                  8224      \n",
      "_________________________________________________________________\n",
      "gru_1_fw (GRU)               multiple                  838656    \n",
      "_________________________________________________________________\n",
      "gru_1_bw (GRU)               multiple                  838656    \n",
      "_________________________________________________________________\n",
      "gru_2_fw (GRU)               multiple                  1575936   \n",
      "_________________________________________________________________\n",
      "gru_2_bw (GRU)               multiple                  1575936   \n",
      "_________________________________________________________________\n",
      "output (Dense)               multiple                  11799     \n",
      "=================================================================\n",
      "Total params: 4,851,687\n",
      "Trainable params: 4,851,687\n",
      "Non-trainable params: 0\n",
      "_________________________________________________________________\n"
     ]
    }
   ],
   "source": [
    "model = PlateOCR(num_classes=len(LETTERS),\n",
    "                 input_shape=(IMG_HEIGHT, IMG_WIDTH, 1))\n",
    "\n",
    "model.summary()"
   ]
  },
  {
   "cell_type": "code",
   "execution_count": 28,
   "metadata": {
    "ExecuteTime": {
     "end_time": "2020-12-23T09:23:04.254214Z",
     "start_time": "2020-12-23T09:23:04.238210Z"
    }
   },
   "outputs": [],
   "source": [
    "EPOCHS = 200\n",
    "BATCH_SIZE = 3\n",
    "\n",
    "data = DataGenerator(TRAIN_DATA_PATH,\n",
    "                     img_width=IMG_WIDTH,\n",
    "                     img_height=IMG_HEIGHT,\n",
    "                     batch_size=BATCH_SIZE,\n",
    "                     letters=LETTERS,\n",
    "                     max_label_len=PLATE_NUM_LENGTH)"
   ]
  },
  {
   "cell_type": "code",
   "execution_count": 29,
   "metadata": {
    "ExecuteTime": {
     "end_time": "2020-12-23T09:23:04.874215Z",
     "start_time": "2020-12-23T09:23:04.870224Z"
    }
   },
   "outputs": [],
   "source": [
    "model.compile(optimizer=tf.keras.optimizers.Adam(lr=3e-4))"
   ]
  },
  {
   "cell_type": "code",
   "execution_count": 30,
   "metadata": {
    "ExecuteTime": {
     "end_time": "2020-12-23T09:23:06.978909Z",
     "start_time": "2020-12-23T09:23:05.670609Z"
    }
   },
   "outputs": [
    {
     "ename": "AttributeError",
     "evalue": "'str' object has no attribute 'dtype'",
     "output_type": "error",
     "traceback": [
      "\u001b[1;31m---------------------------------------------------------------------------\u001b[0m",
      "\u001b[1;31mAttributeError\u001b[0m                            Traceback (most recent call last)",
      "\u001b[1;32m<ipython-input-30-4782b167bdbb>\u001b[0m in \u001b[0;36m<module>\u001b[1;34m\u001b[0m\n\u001b[0;32m      2\u001b[0m     model.fit(data(),\n\u001b[0;32m      3\u001b[0m               \u001b[0mepochs\u001b[0m\u001b[1;33m=\u001b[0m\u001b[0mEPOCHS\u001b[0m\u001b[1;33m,\u001b[0m\u001b[1;33m\u001b[0m\u001b[1;33m\u001b[0m\u001b[0m\n\u001b[1;32m----> 4\u001b[1;33m               steps_per_epoch=data.steps_per_epoch)\n\u001b[0m",
      "\u001b[1;32m~\\AppData\\Roaming\\Python\\Python37\\site-packages\\tensorflow_core\\python\\keras\\engine\\training.py\u001b[0m in \u001b[0;36mfit\u001b[1;34m(self, x, y, batch_size, epochs, verbose, callbacks, validation_split, validation_data, shuffle, class_weight, sample_weight, initial_epoch, steps_per_epoch, validation_steps, validation_freq, max_queue_size, workers, use_multiprocessing, **kwargs)\u001b[0m\n\u001b[0;32m    817\u001b[0m         \u001b[0mmax_queue_size\u001b[0m\u001b[1;33m=\u001b[0m\u001b[0mmax_queue_size\u001b[0m\u001b[1;33m,\u001b[0m\u001b[1;33m\u001b[0m\u001b[1;33m\u001b[0m\u001b[0m\n\u001b[0;32m    818\u001b[0m         \u001b[0mworkers\u001b[0m\u001b[1;33m=\u001b[0m\u001b[0mworkers\u001b[0m\u001b[1;33m,\u001b[0m\u001b[1;33m\u001b[0m\u001b[1;33m\u001b[0m\u001b[0m\n\u001b[1;32m--> 819\u001b[1;33m         use_multiprocessing=use_multiprocessing)\n\u001b[0m\u001b[0;32m    820\u001b[0m \u001b[1;33m\u001b[0m\u001b[0m\n\u001b[0;32m    821\u001b[0m   def evaluate(self,\n",
      "\u001b[1;32m~\\AppData\\Roaming\\Python\\Python37\\site-packages\\tensorflow_core\\python\\keras\\engine\\training_v2.py\u001b[0m in \u001b[0;36mfit\u001b[1;34m(self, model, x, y, batch_size, epochs, verbose, callbacks, validation_split, validation_data, shuffle, class_weight, sample_weight, initial_epoch, steps_per_epoch, validation_steps, validation_freq, max_queue_size, workers, use_multiprocessing, **kwargs)\u001b[0m\n\u001b[0;32m    233\u001b[0m           \u001b[0mmax_queue_size\u001b[0m\u001b[1;33m=\u001b[0m\u001b[0mmax_queue_size\u001b[0m\u001b[1;33m,\u001b[0m\u001b[1;33m\u001b[0m\u001b[1;33m\u001b[0m\u001b[0m\n\u001b[0;32m    234\u001b[0m           \u001b[0mworkers\u001b[0m\u001b[1;33m=\u001b[0m\u001b[0mworkers\u001b[0m\u001b[1;33m,\u001b[0m\u001b[1;33m\u001b[0m\u001b[1;33m\u001b[0m\u001b[0m\n\u001b[1;32m--> 235\u001b[1;33m           use_multiprocessing=use_multiprocessing)\n\u001b[0m\u001b[0;32m    236\u001b[0m \u001b[1;33m\u001b[0m\u001b[0m\n\u001b[0;32m    237\u001b[0m       \u001b[0mtotal_samples\u001b[0m \u001b[1;33m=\u001b[0m \u001b[0m_get_total_number_of_samples\u001b[0m\u001b[1;33m(\u001b[0m\u001b[0mtraining_data_adapter\u001b[0m\u001b[1;33m)\u001b[0m\u001b[1;33m\u001b[0m\u001b[1;33m\u001b[0m\u001b[0m\n",
      "\u001b[1;32m~\\AppData\\Roaming\\Python\\Python37\\site-packages\\tensorflow_core\\python\\keras\\engine\\training_v2.py\u001b[0m in \u001b[0;36m_process_training_inputs\u001b[1;34m(model, x, y, batch_size, epochs, sample_weights, class_weights, steps_per_epoch, validation_split, validation_data, validation_steps, shuffle, distribution_strategy, max_queue_size, workers, use_multiprocessing)\u001b[0m\n\u001b[0;32m    591\u001b[0m         \u001b[0mmax_queue_size\u001b[0m\u001b[1;33m=\u001b[0m\u001b[0mmax_queue_size\u001b[0m\u001b[1;33m,\u001b[0m\u001b[1;33m\u001b[0m\u001b[1;33m\u001b[0m\u001b[0m\n\u001b[0;32m    592\u001b[0m         \u001b[0mworkers\u001b[0m\u001b[1;33m=\u001b[0m\u001b[0mworkers\u001b[0m\u001b[1;33m,\u001b[0m\u001b[1;33m\u001b[0m\u001b[1;33m\u001b[0m\u001b[0m\n\u001b[1;32m--> 593\u001b[1;33m         use_multiprocessing=use_multiprocessing)\n\u001b[0m\u001b[0;32m    594\u001b[0m     \u001b[0mval_adapter\u001b[0m \u001b[1;33m=\u001b[0m \u001b[1;32mNone\u001b[0m\u001b[1;33m\u001b[0m\u001b[1;33m\u001b[0m\u001b[0m\n\u001b[0;32m    595\u001b[0m     \u001b[1;32mif\u001b[0m \u001b[0mvalidation_data\u001b[0m\u001b[1;33m:\u001b[0m\u001b[1;33m\u001b[0m\u001b[1;33m\u001b[0m\u001b[0m\n",
      "\u001b[1;32m~\\AppData\\Roaming\\Python\\Python37\\site-packages\\tensorflow_core\\python\\keras\\engine\\training_v2.py\u001b[0m in \u001b[0;36m_process_inputs\u001b[1;34m(model, mode, x, y, batch_size, epochs, sample_weights, class_weights, shuffle, steps, distribution_strategy, max_queue_size, workers, use_multiprocessing)\u001b[0m\n\u001b[0;32m    704\u001b[0m       \u001b[0mmax_queue_size\u001b[0m\u001b[1;33m=\u001b[0m\u001b[0mmax_queue_size\u001b[0m\u001b[1;33m,\u001b[0m\u001b[1;33m\u001b[0m\u001b[1;33m\u001b[0m\u001b[0m\n\u001b[0;32m    705\u001b[0m       \u001b[0mworkers\u001b[0m\u001b[1;33m=\u001b[0m\u001b[0mworkers\u001b[0m\u001b[1;33m,\u001b[0m\u001b[1;33m\u001b[0m\u001b[1;33m\u001b[0m\u001b[0m\n\u001b[1;32m--> 706\u001b[1;33m       use_multiprocessing=use_multiprocessing)\n\u001b[0m\u001b[0;32m    707\u001b[0m \u001b[1;33m\u001b[0m\u001b[0m\n\u001b[0;32m    708\u001b[0m   \u001b[1;32mreturn\u001b[0m \u001b[0madapter\u001b[0m\u001b[1;33m\u001b[0m\u001b[1;33m\u001b[0m\u001b[0m\n",
      "\u001b[1;32m~\\AppData\\Roaming\\Python\\Python37\\site-packages\\tensorflow_core\\python\\keras\\engine\\data_adapter.py\u001b[0m in \u001b[0;36m__init__\u001b[1;34m(self, x, y, sample_weights, standardize_function, workers, use_multiprocessing, max_queue_size, **kwargs)\u001b[0m\n\u001b[0;32m    765\u001b[0m \u001b[1;33m\u001b[0m\u001b[0m\n\u001b[0;32m    766\u001b[0m     \u001b[1;32mif\u001b[0m \u001b[0mstandardize_function\u001b[0m \u001b[1;32mis\u001b[0m \u001b[1;32mnot\u001b[0m \u001b[1;32mNone\u001b[0m\u001b[1;33m:\u001b[0m\u001b[1;33m\u001b[0m\u001b[1;33m\u001b[0m\u001b[0m\n\u001b[1;32m--> 767\u001b[1;33m       \u001b[0mdataset\u001b[0m \u001b[1;33m=\u001b[0m \u001b[0mstandardize_function\u001b[0m\u001b[1;33m(\u001b[0m\u001b[0mdataset\u001b[0m\u001b[1;33m)\u001b[0m\u001b[1;33m\u001b[0m\u001b[1;33m\u001b[0m\u001b[0m\n\u001b[0m\u001b[0;32m    768\u001b[0m \u001b[1;33m\u001b[0m\u001b[0m\n\u001b[0;32m    769\u001b[0m     \u001b[1;32mif\u001b[0m \u001b[0mkwargs\u001b[0m\u001b[1;33m.\u001b[0m\u001b[0mget\u001b[0m\u001b[1;33m(\u001b[0m\u001b[1;34m\"shuffle\"\u001b[0m\u001b[1;33m,\u001b[0m \u001b[1;32mFalse\u001b[0m\u001b[1;33m)\u001b[0m \u001b[1;32mand\u001b[0m \u001b[0mself\u001b[0m\u001b[1;33m.\u001b[0m\u001b[0mget_size\u001b[0m\u001b[1;33m(\u001b[0m\u001b[1;33m)\u001b[0m \u001b[1;32mis\u001b[0m \u001b[1;32mnot\u001b[0m \u001b[1;32mNone\u001b[0m\u001b[1;33m:\u001b[0m\u001b[1;33m\u001b[0m\u001b[1;33m\u001b[0m\u001b[0m\n",
      "\u001b[1;32m~\\AppData\\Roaming\\Python\\Python37\\site-packages\\tensorflow_core\\python\\keras\\engine\\training_v2.py\u001b[0m in \u001b[0;36mstandardize_function\u001b[1;34m(dataset)\u001b[0m\n\u001b[0;32m    658\u001b[0m         \u001b[0mmodel\u001b[0m\u001b[1;33m.\u001b[0m\u001b[0msample_weight_mode\u001b[0m \u001b[1;33m=\u001b[0m \u001b[0mgetattr\u001b[0m\u001b[1;33m(\u001b[0m\u001b[0mmodel\u001b[0m\u001b[1;33m,\u001b[0m \u001b[1;34m'sample_weight_mode'\u001b[0m\u001b[1;33m,\u001b[0m \u001b[1;32mNone\u001b[0m\u001b[1;33m)\u001b[0m\u001b[1;33m\u001b[0m\u001b[1;33m\u001b[0m\u001b[0m\n\u001b[0;32m    659\u001b[0m \u001b[1;33m\u001b[0m\u001b[0m\n\u001b[1;32m--> 660\u001b[1;33m       \u001b[0mstandardize\u001b[0m\u001b[1;33m(\u001b[0m\u001b[0mdataset\u001b[0m\u001b[1;33m,\u001b[0m \u001b[0mextract_tensors_from_dataset\u001b[0m\u001b[1;33m=\u001b[0m\u001b[1;32mFalse\u001b[0m\u001b[1;33m)\u001b[0m\u001b[1;33m\u001b[0m\u001b[1;33m\u001b[0m\u001b[0m\n\u001b[0m\u001b[0;32m    661\u001b[0m \u001b[1;33m\u001b[0m\u001b[0m\n\u001b[0;32m    662\u001b[0m       \u001b[1;31m# Then we map using only the tensor standardization portion.\u001b[0m\u001b[1;33m\u001b[0m\u001b[1;33m\u001b[0m\u001b[1;33m\u001b[0m\u001b[0m\n",
      "\u001b[1;32m~\\AppData\\Roaming\\Python\\Python37\\site-packages\\tensorflow_core\\python\\keras\\engine\\training.py\u001b[0m in \u001b[0;36m_standardize_user_data\u001b[1;34m(self, x, y, sample_weight, class_weight, batch_size, check_steps, steps_name, steps, validation_split, shuffle, extract_tensors_from_dataset)\u001b[0m\n\u001b[0;32m   2358\u001b[0m     \u001b[0mis_compile_called\u001b[0m \u001b[1;33m=\u001b[0m \u001b[1;32mFalse\u001b[0m\u001b[1;33m\u001b[0m\u001b[1;33m\u001b[0m\u001b[0m\n\u001b[0;32m   2359\u001b[0m     \u001b[1;32mif\u001b[0m \u001b[1;32mnot\u001b[0m \u001b[0mself\u001b[0m\u001b[1;33m.\u001b[0m\u001b[0m_is_compiled\u001b[0m \u001b[1;32mand\u001b[0m \u001b[0mself\u001b[0m\u001b[1;33m.\u001b[0m\u001b[0moptimizer\u001b[0m\u001b[1;33m:\u001b[0m\u001b[1;33m\u001b[0m\u001b[1;33m\u001b[0m\u001b[0m\n\u001b[1;32m-> 2360\u001b[1;33m       \u001b[0mself\u001b[0m\u001b[1;33m.\u001b[0m\u001b[0m_compile_from_inputs\u001b[0m\u001b[1;33m(\u001b[0m\u001b[0mall_inputs\u001b[0m\u001b[1;33m,\u001b[0m \u001b[0my_input\u001b[0m\u001b[1;33m,\u001b[0m \u001b[0mx\u001b[0m\u001b[1;33m,\u001b[0m \u001b[0my\u001b[0m\u001b[1;33m)\u001b[0m\u001b[1;33m\u001b[0m\u001b[1;33m\u001b[0m\u001b[0m\n\u001b[0m\u001b[0;32m   2361\u001b[0m       \u001b[0mis_compile_called\u001b[0m \u001b[1;33m=\u001b[0m \u001b[1;32mTrue\u001b[0m\u001b[1;33m\u001b[0m\u001b[1;33m\u001b[0m\u001b[0m\n\u001b[0;32m   2362\u001b[0m \u001b[1;33m\u001b[0m\u001b[0m\n",
      "\u001b[1;32m~\\AppData\\Roaming\\Python\\Python37\\site-packages\\tensorflow_core\\python\\keras\\engine\\training.py\u001b[0m in \u001b[0;36m_compile_from_inputs\u001b[1;34m(self, all_inputs, target, orig_inputs, orig_target)\u001b[0m\n\u001b[0;32m   2578\u001b[0m       \u001b[1;32mif\u001b[0m \u001b[0mtraining_utils\u001b[0m\u001b[1;33m.\u001b[0m\u001b[0mhas_tensors\u001b[0m\u001b[1;33m(\u001b[0m\u001b[0mtarget\u001b[0m\u001b[1;33m)\u001b[0m\u001b[1;33m:\u001b[0m\u001b[1;33m\u001b[0m\u001b[1;33m\u001b[0m\u001b[0m\n\u001b[0;32m   2579\u001b[0m         target = training_utils.cast_if_floating_dtype_and_mismatch(\n\u001b[1;32m-> 2580\u001b[1;33m             target, self.outputs)\n\u001b[0m\u001b[0;32m   2581\u001b[0m       training_utils.validate_input_types(target, orig_target,\n\u001b[0;32m   2582\u001b[0m                                           allow_dict=False, field_name='target')\n",
      "\u001b[1;32m~\\AppData\\Roaming\\Python\\Python37\\site-packages\\tensorflow_core\\python\\keras\\engine\\training_utils.py\u001b[0m in \u001b[0;36mcast_if_floating_dtype_and_mismatch\u001b[1;34m(targets, outputs)\u001b[0m\n\u001b[0;32m   1339\u001b[0m     \u001b[1;32mif\u001b[0m \u001b[0misinstance\u001b[0m\u001b[1;33m(\u001b[0m\u001b[0mtarget\u001b[0m\u001b[1;33m,\u001b[0m \u001b[0mnp\u001b[0m\u001b[1;33m.\u001b[0m\u001b[0mndarray\u001b[0m\u001b[1;33m)\u001b[0m\u001b[1;33m:\u001b[0m\u001b[1;33m\u001b[0m\u001b[1;33m\u001b[0m\u001b[0m\n\u001b[0;32m   1340\u001b[0m       \u001b[0mtarget\u001b[0m \u001b[1;33m=\u001b[0m \u001b[0mops\u001b[0m\u001b[1;33m.\u001b[0m\u001b[0mconvert_to_tensor\u001b[0m\u001b[1;33m(\u001b[0m\u001b[0mtarget\u001b[0m\u001b[1;33m)\u001b[0m\u001b[1;33m\u001b[0m\u001b[1;33m\u001b[0m\u001b[0m\n\u001b[1;32m-> 1341\u001b[1;33m     \u001b[1;32mif\u001b[0m \u001b[0mtarget\u001b[0m\u001b[1;33m.\u001b[0m\u001b[0mdtype\u001b[0m \u001b[1;33m!=\u001b[0m \u001b[0mout\u001b[0m\u001b[1;33m.\u001b[0m\u001b[0mdtype\u001b[0m\u001b[1;33m:\u001b[0m\u001b[1;33m\u001b[0m\u001b[1;33m\u001b[0m\u001b[0m\n\u001b[0m\u001b[0;32m   1342\u001b[0m       \u001b[0mnew_targets\u001b[0m\u001b[1;33m.\u001b[0m\u001b[0mappend\u001b[0m\u001b[1;33m(\u001b[0m\u001b[0mcast_single_tensor\u001b[0m\u001b[1;33m(\u001b[0m\u001b[0mtarget\u001b[0m\u001b[1;33m,\u001b[0m \u001b[0mdtype\u001b[0m\u001b[1;33m=\u001b[0m\u001b[0mout\u001b[0m\u001b[1;33m.\u001b[0m\u001b[0mdtype\u001b[0m\u001b[1;33m)\u001b[0m\u001b[1;33m)\u001b[0m\u001b[1;33m\u001b[0m\u001b[1;33m\u001b[0m\u001b[0m\n\u001b[0;32m   1343\u001b[0m     \u001b[1;32melse\u001b[0m\u001b[1;33m:\u001b[0m\u001b[1;33m\u001b[0m\u001b[1;33m\u001b[0m\u001b[0m\n",
      "\u001b[1;31mAttributeError\u001b[0m: 'str' object has no attribute 'dtype'"
     ]
    }
   ],
   "source": [
    "with tf.device(\"/device:GPU:0\"):\n",
    "    model.fit(data(),\n",
    "              epochs=EPOCHS,\n",
    "              steps_per_epoch=data.steps_per_epoch)"
   ]
  },
  {
   "cell_type": "code",
   "execution_count": null,
   "metadata": {},
   "outputs": [],
   "source": []
  }
 ],
 "metadata": {
  "kernelspec": {
   "display_name": "Python 3",
   "language": "python",
   "name": "python3"
  },
  "language_info": {
   "codemirror_mode": {
    "name": "ipython",
    "version": 3
   },
   "file_extension": ".py",
   "mimetype": "text/x-python",
   "name": "python",
   "nbconvert_exporter": "python",
   "pygments_lexer": "ipython3",
   "version": "3.7.9"
  }
 },
 "nbformat": 4,
 "nbformat_minor": 4
}
